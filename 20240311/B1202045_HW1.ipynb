{
  "nbformat": 4,
  "nbformat_minor": 0,
  "metadata": {
    "colab": {
      "provenance": []
    },
    "kernelspec": {
      "name": "python3",
      "display_name": "Python 3"
    },
    "language_info": {
      "name": "python"
    }
  },
  "cells": [
    {
      "cell_type": "code",
      "execution_count": null,
      "metadata": {
        "colab": {
          "base_uri": "https://localhost:8080/"
        },
        "id": "wX2BPR6_5G5l",
        "outputId": "3d785a7f-9bc8-44e4-9cce-3448349ad9f9"
      },
      "outputs": [
        {
          "output_type": "stream",
          "name": "stdout",
          "text": [
            "I'm a student\n"
          ]
        }
      ],
      "source": [
        "print(\"I'm a student\")"
      ]
    },
    {
      "cell_type": "code",
      "source": [
        "a=float(input(\"輸入x1:\"))\n",
        "b=float(input(\"輸入y1:\"))\n",
        "c=float(input(\"輸入x2:\"))\n",
        "d=float(input(\"輸入y2:\"))\n",
        "print(\"AB的距離是\",(((a-c)**2+(b-d)**2)**0.5))"
      ],
      "metadata": {
        "colab": {
          "base_uri": "https://localhost:8080/"
        },
        "id": "fYIndN3s5gvm",
        "outputId": "7a32e653-e618-4013-d43c-6b504fb0af39"
      },
      "execution_count": null,
      "outputs": [
        {
          "output_type": "stream",
          "name": "stdout",
          "text": [
            "輸入x1:3\n",
            "輸入y1:6\n",
            "輸入x2:8\n",
            "輸入y2:18\n",
            "AB的距離是 13.0\n"
          ]
        }
      ]
    },
    {
      "cell_type": "code",
      "source": [
        "a=float(input('輸入身高(公分)'))\n",
        "b=float(input('輸入體重(公斤)'))\n",
        "a/=100\n",
        "b/=a\n",
        "b/=a\n",
        "print(\"BMI=\",b)"
      ],
      "metadata": {
        "id": "s0br3RB27ENR",
        "colab": {
          "base_uri": "https://localhost:8080/"
        },
        "outputId": "b3a5952c-e002-43ec-c5f1-37444039259d"
      },
      "execution_count": 1,
      "outputs": [
        {
          "output_type": "stream",
          "name": "stdout",
          "text": [
            "輸入身高(公分)170\n",
            "輸入體重(公斤)65\n",
            "BMI= 22.491349480968857\n"
          ]
        }
      ]
    }
  ]
}