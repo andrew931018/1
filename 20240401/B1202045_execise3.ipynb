{
  "nbformat": 4,
  "nbformat_minor": 0,
  "metadata": {
    "colab": {
      "provenance": []
    },
    "kernelspec": {
      "name": "python3",
      "display_name": "Python 3"
    },
    "language_info": {
      "name": "python"
    }
  },
  "cells": [
    {
      "cell_type": "code",
      "execution_count": 6,
      "metadata": {
        "colab": {
          "base_uri": "https://localhost:8080/"
        },
        "id": "MB6GVXUqc2hP",
        "outputId": "5f9049bb-8b73-4202-8b0e-23f1d1a50c19"
      },
      "outputs": [
        {
          "output_type": "stream",
          "name": "stdout",
          "text": [
            "{'姓名': '賴宏瑋', '性別': '男', '學號': 'M1129020'}\n",
            "88.33333333333333\n",
            "{'姓名': '許家綺', '性別': '女', '學號': 'M1129020'}\n",
            "95.0\n"
          ]
        }
      ],
      "source": [
        "a=dict(姓名='賴宏瑋',性別='男',作業分數=[95,100,90])\n",
        "b=dict(學號='M1129020')\n",
        "c={**a,**b}\n",
        "import copy\n",
        "d=copy.deepcopy(c)\n",
        "c['作業分數'][1]=80\n",
        "d['姓名']='許家綺'\n",
        "d['性別']='女'\n",
        "e=c.pop('作業分數')\n",
        "f=list(e)\n",
        "g=(f[0]+f[1]+f[2])/3\n",
        "h=d.pop('作業分數')\n",
        "i=list(h)\n",
        "j=(h[0]+h[1]+h[2])/3\n",
        "print(c)\n",
        "print(g)\n",
        "print(d)\n",
        "print(j)\n"
      ]
    },
    {
      "cell_type": "code",
      "source": [
        "a=[100,50,45,60,90,95,80,50]\n",
        "a.insert(0,88)\n",
        "a[2:5]=[70,50]\n",
        "a.remove(50)\n",
        "print((a.pop(0)+a.pop(5)))\n"
      ],
      "metadata": {
        "colab": {
          "base_uri": "https://localhost:8080/"
        },
        "id": "_8Sm78ICjJ24",
        "outputId": "cce20fbf-b23d-4f6f-9566-b01ad5a27593"
      },
      "execution_count": 7,
      "outputs": [
        {
          "output_type": "stream",
          "name": "stdout",
          "text": [
            "138\n"
          ]
        }
      ]
    },
    {
      "cell_type": "code",
      "source": [
        "a=347//3\n",
        "b=347%3\n",
        "print(a,b,a**b)"
      ],
      "metadata": {
        "colab": {
          "base_uri": "https://localhost:8080/"
        },
        "id": "5xi70Wonk1TL",
        "outputId": "71a95eff-3786-4763-8471-88a36eabb291"
      },
      "execution_count": 9,
      "outputs": [
        {
          "output_type": "stream",
          "name": "stdout",
          "text": [
            "115 2 13225\n"
          ]
        }
      ]
    }
  ]
}