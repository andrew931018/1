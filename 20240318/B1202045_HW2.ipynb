{
  "nbformat": 4,
  "nbformat_minor": 0,
  "metadata": {
    "colab": {
      "provenance": []
    },
    "kernelspec": {
      "name": "python3",
      "display_name": "Python 3"
    },
    "language_info": {
      "name": "python"
    }
  },
  "cells": [
    {
      "cell_type": "code",
      "execution_count": 5,
      "metadata": {
        "colab": {
          "base_uri": "https://localhost:8080/"
        },
        "id": "HtUlCdmeZ40E",
        "outputId": "95ccc03d-3ded-49f0-86c9-c5a67b19fdd1"
      },
      "outputs": [
        {
          "output_type": "stream",
          "name": "stdout",
          "text": [
            "A\n",
            "['K', 'H', 'U']\n"
          ]
        }
      ],
      "source": [
        "a='C,B,A'\n",
        "b=['F','G','H']\n",
        "c=a.split(',')\n",
        "d=c+b\n",
        "d[0]='K'\n",
        "e=d.pop(2)\n",
        "print(e)\n",
        "del d[1:4]\n",
        "d.insert(3,'U')\n",
        "print(d)\n",
        "\n"
      ]
    },
    {
      "cell_type": "code",
      "source": [
        "a=input('請輸入八位數的數字:')\n",
        "b=list(a)\n",
        "c=b.pop(4)\n",
        "print(c)\n"
      ],
      "metadata": {
        "colab": {
          "base_uri": "https://localhost:8080/"
        },
        "id": "0K1eStr1g6Xg",
        "outputId": "52b29a66-a782-4a01-e56e-8ed6ac908983"
      },
      "execution_count": 11,
      "outputs": [
        {
          "output_type": "stream",
          "name": "stdout",
          "text": [
            "請輸入八位數的數字:12345678\n",
            "5\n"
          ]
        }
      ]
    },
    {
      "cell_type": "code",
      "source": [
        "a='My ID is B1202045'\n",
        "a=a.split(' ')\n",
        "print(len(a))\n",
        "b=a.pop(3)\n",
        "print(len(b))\n"
      ],
      "metadata": {
        "colab": {
          "base_uri": "https://localhost:8080/"
        },
        "id": "QtHkpuPqigU8",
        "outputId": "ac487df2-4c4e-4d5b-95a5-8a29d66390c7"
      },
      "execution_count": 19,
      "outputs": [
        {
          "output_type": "stream",
          "name": "stdout",
          "text": [
            "4\n",
            "8\n"
          ]
        }
      ]
    },
    {
      "cell_type": "code",
      "source": [
        "a=\"I'm a student\"\n",
        "a=a.split(' ')\n",
        "b=a[0]\n",
        "print(b[2])\n"
      ],
      "metadata": {
        "colab": {
          "base_uri": "https://localhost:8080/"
        },
        "id": "JzrTa7B2kbIm",
        "outputId": "5bdb31c8-2125-4b47-dc8a-a6fad4b41272"
      },
      "execution_count": 21,
      "outputs": [
        {
          "output_type": "stream",
          "name": "stdout",
          "text": [
            "m\n"
          ]
        }
      ]
    }
  ]
}