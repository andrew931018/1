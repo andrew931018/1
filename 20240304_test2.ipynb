{
  "nbformat": 4,
  "nbformat_minor": 0,
  "metadata": {
    "colab": {
      "provenance": []
    },
    "kernelspec": {
      "name": "python3",
      "display_name": "Python 3"
    },
    "language_info": {
      "name": "python"
    }
  },
  "cells": [
    {
      "cell_type": "code",
      "execution_count": null,
      "metadata": {
        "colab": {
          "base_uri": "https://localhost:8080/"
        },
        "id": "6fO5zjfddx8-",
        "outputId": "cacf373f-13d0-4879-b67e-eb9f33a5bd7b"
      },
      "outputs": [
        {
          "output_type": "stream",
          "name": "stdout",
          "text": [
            "Answer is 495\n"
          ]
        }
      ],
      "source": [
        "x=2\n",
        "y=1\n",
        "\n",
        "a=2*x+y\n",
        "b=100-y\n",
        "\n",
        "c=a*b\n",
        "print(\"Answer is\",c)"
      ]
    },
    {
      "cell_type": "code",
      "source": [
        "y=4\n",
        "a=100\n",
        "b=2*y+1\n",
        "c=a/b\n",
        "print(\"Answer is\",c)"
      ],
      "metadata": {
        "colab": {
          "base_uri": "https://localhost:8080/"
        },
        "id": "zmDxHN3he2gF",
        "outputId": "e8502027-2540-42af-b359-a47f15c055bb"
      },
      "execution_count": null,
      "outputs": [
        {
          "output_type": "stream",
          "name": "stdout",
          "text": [
            "Answer is 11.11111111111111\n"
          ]
        }
      ]
    }
  ]
}