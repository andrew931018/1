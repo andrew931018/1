{
  "nbformat": 4,
  "nbformat_minor": 0,
  "metadata": {
    "colab": {
      "provenance": []
    },
    "kernelspec": {
      "name": "python3",
      "display_name": "Python 3"
    },
    "language_info": {
      "name": "python"
    }
  },
  "cells": [
    {
      "cell_type": "code",
      "execution_count": 13,
      "metadata": {
        "colab": {
          "base_uri": "https://localhost:8080/"
        },
        "id": "d7_eYxSes-fm",
        "outputId": "708f0c51-5f79-4544-e012-4c1722815ddb"
      },
      "outputs": [
        {
          "output_type": "stream",
          "name": "stdout",
          "text": [
            "請輸入聖誕樹高度8\n",
            "         *         \n",
            "        ***        \n",
            "       *****       \n",
            "      *******      \n",
            "     *********     \n",
            "    ***********    \n",
            "   *************   \n",
            "  ***************  \n",
            "        ***\n",
            "        ***\n",
            "        ***\n",
            "        ***\n",
            "        ***\n"
          ]
        }
      ],
      "source": [
        "def star(x):\n",
        "  a='*'\n",
        "  b=' '\n",
        "  y=x+1\n",
        "  for i in range(1,y):\n",
        "    d=(2*i-1)\n",
        "    c=(2*y-1-d)/2\n",
        "    k=int(c)\n",
        "    print(k*b,d*a,k*b)\n",
        "\n",
        "  for i in range(1,6):\n",
        "    ans=3*a\n",
        "    f=(2*y-3)/2\n",
        "    print(int(f)*b,ans)\n",
        "\n",
        "x=input('請輸入聖誕樹高度')\n",
        "x=int(x)\n",
        "star(x)\n"
      ]
    },
    {
      "cell_type": "code",
      "source": [
        "def BMI(a,b):\n",
        "  a/=100\n",
        "  a+=a\n",
        "  return b/a\n",
        "\n",
        "\n",
        "\n",
        "try:\n",
        "  a=float(input('輸入身高(公分)'))\n",
        "  b=float(input('輸入體重(公斤)'))\n",
        "  c=BMI(a,b)\n",
        "  print(\"BMI=\",c)\n",
        "  if c<18.5:\n",
        "   print('體位：過輕')\n",
        "  if 18.5<=c<24:\n",
        "   print('體位：適中')\n",
        "  if 24<=c<27:\n",
        "   print('體位：過重')\n",
        "  if c>=27 :\n",
        "   print('體位：超重')\n",
        "except:\n",
        "  print('內容輸入錯誤')\n"
      ],
      "metadata": {
        "colab": {
          "base_uri": "https://localhost:8080/"
        },
        "id": "NnuOgj78ziDa",
        "outputId": "99d8eda4-5512-4ae7-ad34-504281f56b32"
      },
      "execution_count": 21,
      "outputs": [
        {
          "output_type": "stream",
          "name": "stdout",
          "text": [
            "輸入身高(公分)180\n",
            "輸入體重(公斤)60\n",
            "BMI= 16.666666666666668\n",
            "體位：過輕\n"
          ]
        }
      ]
    }
  ]
}