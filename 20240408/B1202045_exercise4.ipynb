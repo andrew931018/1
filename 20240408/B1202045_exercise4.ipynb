{
  "nbformat": 4,
  "nbformat_minor": 0,
  "metadata": {
    "colab": {
      "provenance": []
    },
    "kernelspec": {
      "name": "python3",
      "display_name": "Python 3"
    },
    "language_info": {
      "name": "python"
    }
  },
  "cells": [
    {
      "cell_type": "code",
      "execution_count": null,
      "metadata": {
        "colab": {
          "base_uri": "https://localhost:8080/"
        },
        "id": "W0jbUSKOjvXc",
        "outputId": "01065ca8-79cf-4fc1-d1c5-5b1251235054"
      },
      "outputs": [
        {
          "output_type": "stream",
          "name": "stdout",
          "text": [
            "輸入身高(公分)175\n",
            "輸入體重(公斤)90\n",
            "BMI= 29.387755102040817\n",
            "體位：超重\n"
          ]
        }
      ],
      "source": [
        "a=float(input('輸入身高(公分)'))\n",
        "b=float(input('輸入體重(公斤)'))\n",
        "a/=100\n",
        "b/=a\n",
        "b/=a\n",
        "print(\"BMI=\",b)\n",
        "if b<18.5:\n",
        "  print('體位：過輕')\n",
        "if 18.5<=b<24:\n",
        "  print('體位：適中')\n",
        "if 24<=b<27:\n",
        "  print('體位：過重')\n",
        "if b>=27 :\n",
        "  print('體位：超重')\n"
      ]
    },
    {
      "cell_type": "code",
      "source": [
        "a=float(input(\"請輸入第一個數字\"))\n",
        "p=str(input(\"請輸入一運算符號\"))\n",
        "b=float(input(\"請輸入第二個數字\"))\n",
        "\n",
        "if p==\"+\":\n",
        "  print(a+b)\n",
        "if p==\"-\":\n",
        "  print(a-b)\n",
        "if p==\"*\":\n",
        "  print(a*b)\n",
        "if p==\"/\":\n",
        "  print(a/b)"
      ],
      "metadata": {
        "colab": {
          "base_uri": "https://localhost:8080/"
        },
        "id": "GMvdZWbKlAGZ",
        "outputId": "52e7eaa7-7685-4e49-ca64-4bdee324f56c"
      },
      "execution_count": null,
      "outputs": [
        {
          "name": "stdout",
          "output_type": "stream",
          "text": [
            "請輸入第一個數字2\n",
            "請輸入一運算符號+\n"
          ]
        }
      ]
    }
  ]
}