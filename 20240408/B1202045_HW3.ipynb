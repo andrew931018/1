{
  "nbformat": 4,
  "nbformat_minor": 0,
  "metadata": {
    "colab": {
      "provenance": []
    },
    "kernelspec": {
      "name": "python3",
      "display_name": "Python 3"
    },
    "language_info": {
      "name": "python"
    }
  },
  "cells": [
    {
      "cell_type": "code",
      "source": [],
      "metadata": {
        "id": "4R7KWToxQhdR"
      },
      "execution_count": null,
      "outputs": []
    },
    {
      "cell_type": "code",
      "source": [
        "a=int(input(\"請輸入年份\"))\n",
        "if a >1582:\n",
        "  if a%400==0:\n",
        "    print(\"是閏年\")\n",
        "  elif a%4==0 and a%100!=0:\n",
        "    print(\"是閏年\")\n",
        "  else:\n",
        "    print(\"是平年\")\n",
        "elif a%4==0:\n",
        "  print(\"是閏年\")\n",
        "else:\n",
        "  print(\"是平年\")"
      ],
      "metadata": {
        "id": "_Hwa2sE3V0Hs",
        "colab": {
          "base_uri": "https://localhost:8080/"
        },
        "outputId": "8c073f53-0a27-40b5-d608-dae100e7a7c0"
      },
      "execution_count": 5,
      "outputs": [
        {
          "output_type": "stream",
          "name": "stdout",
          "text": [
            "請輸入年份2024\n",
            "是閏年\n"
          ]
        }
      ]
    }
  ]
}